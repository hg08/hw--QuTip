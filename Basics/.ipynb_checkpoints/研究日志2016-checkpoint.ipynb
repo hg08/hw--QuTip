{
 "cells": [
  {
   "cell_type": "markdown",
   "metadata": {},
   "source": [
    "# 最近学的：\n",
    "\n",
    "1 会装多操作系统\n",
    "\n",
    "2 会用Python写出求表面的代码，确定一个点是否在一个多边形内的代码，\n",
    "\n",
    "3 会用awk,sed,cat等组合成.sh 文件\n",
    "\n",
    "4 严谨的科学态度，做事情有法度\n",
    "\n",
    "5 会用for循环写.sh脚本，生成自动化命令\n",
    "\n",
    "6 会用torque系统提交作业\n",
    "\n",
    "7 会用CP2K做基于DFT的模拟\n",
    "\n",
    "8 会计算自关联函数\n",
    "\n",
    "9 会算RDF\n",
    "\n",
    "# 2015年\n",
    "\n",
    "1 会写gnuplot脚本，会用gnuplot同时画出虚线实线于一图\n",
    "\n",
    "2 计算氢键动力学\n",
    "\n",
    "# 2015年7月\n",
    "\n",
    "1 安装Ambertool 2015，并用其中的一个程序sander做了一个完整的MD模拟和数据分析。\n",
    "\n",
    "2 知Amber中可以计算RDF.\n",
    "\n",
    "3 将Amber生成的轨迹（.mdcrd）导入VMD中以可视化。\n",
    "\n",
    "# 2016年6月\n",
    "\n",
    "1.将氢键动力学的计算效率变得可控。实现手段是在程序中将“步长”作为一个可调参数，通过增加此参数，程序运行效率将得到提高，而其计算精度仍在要求的范围内。\n",
    "\n",
    "2.对k(t)做指数衰减拟合，选择参数ttrans =0.5ps,在[ttrans=0.5,tmax=30]ps范围内，得:$k(t)=k\\exp(-kt)$ 可很好地拟合k(t),k=0.186+-0.001."
   ]
  },
  {
   "cell_type": "markdown",
   "metadata": {},
   "source": [
    "# 20141210 雪 美因茨\n",
    "\n",
    "## 和勒密讨论：（反）对称振动模式与分子内原子运动之关联\n",
    "\n",
    "对称和反对称振动模式的另一种含义就是：分子的两个振动模式是相互关联的！\n",
    "自关联函数显然不容易得出这两种振动模式，因为它没有考虑两个振动模式之关联！"
   ]
  },
  {
   "cell_type": "code",
   "execution_count": null,
   "metadata": {},
   "outputs": [],
   "source": []
  }
 ],
 "metadata": {
  "kernelspec": {
   "display_name": "Python 3",
   "language": "python",
   "name": "python3"
  },
  "language_info": {
   "codemirror_mode": {
    "name": "ipython",
    "version": 3
   },
   "file_extension": ".py",
   "mimetype": "text/x-python",
   "name": "python",
   "nbconvert_exporter": "python",
   "pygments_lexer": "ipython3",
   "version": "3.6.4"
  }
 },
 "nbformat": 4,
 "nbformat_minor": 2
}
