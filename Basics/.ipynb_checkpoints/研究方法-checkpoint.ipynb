{
 "cells": [
  {
   "cell_type": "markdown",
   "metadata": {},
   "source": [
    "# 伟大的病理学家——Howard Ricketts\n",
    "\n",
    "Howard Ricketts (1871-1910), 一位病理学家，研究了Rock山区发热病并在1906年发现这种病是由一种微小的、专性和细胞内的球杆菌所引起。Ricketts将病人的血液注入荷兰鼠体内，可使它们感染（L：实验1）。其它实验发现某种壁虱的叮咬能将这种病传染给了荷兰鼠（L：实验2）。通过显微镜观察，Ricketts发现患病动物的血液中有致病的球杆菌。（L：实验3）进一步的实验证明，不是所有的壁虱都能传播这种后来被叫做**立克氏次体的细菌**，但某些草蜱属的壁虱是主要的传播者（L：实验4）。Ricketts还证实壁虱通过吸食感染的人或动物的血液获得R.rickettsii，并将这种传染病代代遗传（L：实验5）。这一现象发生在受感染的雌性壁虱通过卵将菌体传给下一代的过程中。（L：病理，病之产生的物理过程。研究病理，目的是找到导致此病的最主要的因素！从不同的角度设计不同的实验，从而发现了多个实验现象背后的共同本质！要多角度对比(车轮战法)，才最后出结论！）\n",
    "\n",
    " 在其他科学家研究Rock山区发热病时，Howard Ricketts把注意力另一种立克氏次体病——斑疹伤寒症。不幸的是，他在研究中感染了斑疹伤寒，很快去世了。这是个正处在他事业发展全盛时期的年轻人！\n",
    " \n",
    "万象背后有一。"
   ]
  },
  {
   "cell_type": "code",
   "execution_count": null,
   "metadata": {},
   "outputs": [],
   "source": []
  }
 ],
 "metadata": {
  "kernelspec": {
   "display_name": "Python 3",
   "language": "python",
   "name": "python3"
  },
  "language_info": {
   "codemirror_mode": {
    "name": "ipython",
    "version": 3
   },
   "file_extension": ".py",
   "mimetype": "text/x-python",
   "name": "python",
   "nbconvert_exporter": "python",
   "pygments_lexer": "ipython3",
   "version": "3.6.4"
  }
 },
 "nbformat": 4,
 "nbformat_minor": 2
}
